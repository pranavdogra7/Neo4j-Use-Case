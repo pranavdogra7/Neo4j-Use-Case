{
 "cells": [
  {
   "cell_type": "code",
   "execution_count": 311,
   "metadata": {},
   "outputs": [],
   "source": [
    "import json\n",
    "import pandas as pd\n",
    "from py2neo import Graph, Node, Relationship"
   ]
  },
  {
   "cell_type": "code",
   "execution_count": 312,
   "metadata": {},
   "outputs": [],
   "source": [
    "graph = Graph(\"http://localhost:7474/db/data/\", user=\"neo4j\", password=\"qwerty\")"
   ]
  },
  {
   "cell_type": "code",
   "execution_count": 313,
   "metadata": {},
   "outputs": [],
   "source": [
    "with open('bbox_labels_600_hierarchy.json') as file:\n",
    "    data = json.load(file)"
   ]
  },
  {
   "cell_type": "code",
   "execution_count": 314,
   "metadata": {},
   "outputs": [
    {
     "data": {
      "text/html": [
       "<div>\n",
       "<style scoped>\n",
       "    .dataframe tbody tr th:only-of-type {\n",
       "        vertical-align: middle;\n",
       "    }\n",
       "\n",
       "    .dataframe tbody tr th {\n",
       "        vertical-align: top;\n",
       "    }\n",
       "\n",
       "    .dataframe thead th {\n",
       "        text-align: right;\n",
       "    }\n",
       "</style>\n",
       "<table border=\"1\" class=\"dataframe\">\n",
       "  <thead>\n",
       "    <tr style=\"text-align: right;\">\n",
       "      <th></th>\n",
       "      <th>LabelName</th>\n",
       "      <th>DisplayName</th>\n",
       "    </tr>\n",
       "  </thead>\n",
       "  <tbody>\n",
       "    <tr>\n",
       "      <th>0</th>\n",
       "      <td>/m/0100nhbf</td>\n",
       "      <td>Sprenger's tulip</td>\n",
       "    </tr>\n",
       "    <tr>\n",
       "      <th>1</th>\n",
       "      <td>/m/0104x9kv</td>\n",
       "      <td>Vinegret</td>\n",
       "    </tr>\n",
       "    <tr>\n",
       "      <th>2</th>\n",
       "      <td>/m/0105jzwx</td>\n",
       "      <td>Dabu-dabu</td>\n",
       "    </tr>\n",
       "    <tr>\n",
       "      <th>3</th>\n",
       "      <td>/m/0105ld7g</td>\n",
       "      <td>Pistachio ice cream</td>\n",
       "    </tr>\n",
       "    <tr>\n",
       "      <th>4</th>\n",
       "      <td>/m/0105lxy5</td>\n",
       "      <td>Woku</td>\n",
       "    </tr>\n",
       "  </tbody>\n",
       "</table>\n",
       "</div>"
      ],
      "text/plain": [
       "     LabelName          DisplayName\n",
       "0  /m/0100nhbf     Sprenger's tulip\n",
       "1  /m/0104x9kv             Vinegret\n",
       "2  /m/0105jzwx            Dabu-dabu\n",
       "3  /m/0105ld7g  Pistachio ice cream\n",
       "4  /m/0105lxy5                 Woku"
      ]
     },
     "execution_count": 314,
     "metadata": {},
     "output_type": "execute_result"
    }
   ],
   "source": [
    "desc = pd.read_csv('oidv6-class-descriptions.csv')\n",
    "desc.head()"
   ]
  },
  {
   "cell_type": "code",
   "execution_count": 315,
   "metadata": {},
   "outputs": [],
   "source": [
    "names = dict(zip(desc['LabelName'], desc['DisplayName']))"
   ]
  },
  {
   "cell_type": "code",
   "execution_count": 316,
   "metadata": {},
   "outputs": [],
   "source": [
    "def getName(val):\n",
    "    if val in names.keys():\n",
    "        return names[val]\n",
    "    else:\n",
    "        return val\n",
    "\n",
    "def dictIterate(data):\n",
    "    \n",
    "    node1 = Node(\"Label\", name = getName(data['LabelName']))\n",
    "    try:\n",
    "        sub = data['Subcategory']\n",
    "        for item in sub:\n",
    "            if 'Subcategory' in item.keys():\n",
    "                node2 = Node(\"Label\", name = getName(item['LabelName']))\n",
    "                relation = Relationship(node1, \"PARENT_OF\", node2)\n",
    "                rel = Relationship.type(\"PARENT_OF\")\n",
    "                graph.merge(rel(node1, node2), 'Label', 'name')\n",
    "                dictIterate(item)\n",
    "            else:\n",
    "                node2 = Node(\"Label\", name = getName(item['LabelName']))\n",
    "                relation = Relationship(node1, \"PARENT_OF\", node2)\n",
    "                rel = Relationship.type(\"PARENT_OF\")\n",
    "                graph.merge(rel(node1, node2), 'Label', 'name')\n",
    "    except Exception as e:\n",
    "        pass"
   ]
  },
  {
   "cell_type": "code",
   "execution_count": 317,
   "metadata": {
    "scrolled": true
   },
   "outputs": [],
   "source": [
    "dictIterate(data)"
   ]
  },
  {
   "cell_type": "markdown",
   "metadata": {},
   "source": [
    "### 1. Find all siblings class of a class name"
   ]
  },
  {
   "cell_type": "code",
   "execution_count": 310,
   "metadata": {},
   "outputs": [
    {
     "name": "stdout",
     "output_type": "stream",
     "text": [
      "Sibling Classes for Pancake : Sushi, Dairy Product, Sandwich, Honeycomb, Vegetable, Cooking spray, Taco, Seafood, Pizza, Pasta, Mushroom, Baked goods, Egg (Food), Fruit, Guacamole, Dessert, Snack, Burrito, Pancake, Waffle, Fast food\n"
     ]
    }
   ],
   "source": [
    "class_name = 'Pancake'\n",
    "query1 = \"MATCH (a)-[r]->(b:Label {name:\" + '\"' + class_name + '\"' + \"}) RETURN a\"\n",
    "parent_class = graph.run(query).data()[0]['a']['name']\n",
    "query2 = \"MATCH (a:Label {name :\" + '\"' + parent_class + '\"' + \"})-[r]->(b) RETURN b\"\n",
    "siblings = graph.run(query2).data()\n",
    "result = [item['b']['name'] for item in siblings]\n",
    "print('Sibling Classes for', class_name, ':', ', '.join(result))"
   ]
  },
  {
   "cell_type": "markdown",
   "metadata": {},
   "source": [
    "### 2. Find Parent Class of a class name"
   ]
  },
  {
   "cell_type": "code",
   "execution_count": 307,
   "metadata": {},
   "outputs": [
    {
     "name": "stdout",
     "output_type": "stream",
     "text": [
      "Parent Class of Milk is : Dairy Product\n"
     ]
    }
   ],
   "source": [
    "class_name = 'Milk'\n",
    "query1 = \"MATCH (a)-[r]->(b:Label {name:\" + '\"' + class_name + '\"' + \"}) RETURN a\"\n",
    "parent_class = graph.run(query1).data()[0]['a']['name']\n",
    "print('Parent Class of', class_name, \"is :\", parent_class)"
   ]
  },
  {
   "cell_type": "markdown",
   "metadata": {},
   "source": [
    "### 3. Find All ancestors of a class name"
   ]
  },
  {
   "cell_type": "code",
   "execution_count": 306,
   "metadata": {},
   "outputs": [
    {
     "name": "stdout",
     "output_type": "stream",
     "text": [
      "Sibling Node : Milk\n",
      "Ancestoral Nodes : Dairy Product, Food, /m/0bl9f\n"
     ]
    }
   ],
   "source": [
    "class_name = 'Milk'\n",
    "query1 = \"MATCH p=(o:Label {name :\" + '\"' + class_name + '\"' + \"})<-[*0..6]-(a:Label) WITH *, RELATIONSHIPS(p) AS rels RETURN o, rels, a\"\n",
    "result = graph.run(query1).data()\n",
    "print('Sibling Node :', class_name)\n",
    "print('Ancestoral Nodes :', ', '.join([item.start_node['name'] for item in result[-1]['rels']]))"
   ]
  },
  {
   "cell_type": "markdown",
   "metadata": {},
   "source": [
    "### 4. Find if both class 1 and class 2 belong to the same ancestor class(es)"
   ]
  },
  {
   "cell_type": "code",
   "execution_count": 299,
   "metadata": {},
   "outputs": [],
   "source": [
    "def getAncestoralClasses(query):\n",
    "    query_result = graph.run(query).data()\n",
    "    temp = list()\n",
    "    for i in range(len(query_result)):\n",
    "        temp.append([item.start_node['name'] for item in query_result[i]['rels']])\n",
    "    \n",
    "    result = list()\n",
    "    for val in temp:\n",
    "        for item in val:\n",
    "            if item != '/m/0bl9f':\n",
    "                result.append(item)\n",
    "    \n",
    "    return list(set(result))"
   ]
  },
  {
   "cell_type": "code",
   "execution_count": 305,
   "metadata": {},
   "outputs": [
    {
     "name": "stdout",
     "output_type": "stream",
     "text": [
      "Bed and Table share the same ancestoral classes\n",
      "Common Ancestoral Classes : Furniture\n"
     ]
    }
   ],
   "source": [
    "class_name_1 = 'Bed'\n",
    "class_name_2 = 'Table'\n",
    "query1 = \"MATCH p=(o:Label {name :\" + '\"' + class_name_1 + '\"' + \"})<-[*0..6]-(a:Label) WITH *, RELATIONSHIPS(p) AS rels RETURN o, rels, a\"\n",
    "ancestor_class_1 = getAncestoralClasses(query1)\n",
    "query2 = \"MATCH p=(o:Label {name :\" + '\"' + class_name_2 + '\"' + \"})<-[*0..6]-(a:Label) WITH *, RELATIONSHIPS(p) AS rels RETURN o, rels, a\"\n",
    "ancestor_class_2 = getAncestoralClasses(query2)\n",
    "# ancestor_class_2 = [item.start_node['name'] for item in graph.run(query2).data()[-1]['rels']]\n",
    "\n",
    "count = 0\n",
    "same_ancestor_class = list()\n",
    "for item in ancestor_class_1:\n",
    "    if item in ancestor_class_2:\n",
    "        same_ancestor_class.append(item)\n",
    "        count += 1\n",
    "if count > 0:\n",
    "    print(class_name_1 + ' and ' + class_name_2 + ' share the same ancestoral classes')\n",
    "    print('Common Ancestoral Classes :', ', '.join(same_ancestor_class))\n",
    "else:\n",
    "    print('No. They do not share the same ancestoral classes.')"
   ]
  },
  {
   "cell_type": "code",
   "execution_count": null,
   "metadata": {},
   "outputs": [],
   "source": []
  }
 ],
 "metadata": {
  "kernelspec": {
   "display_name": "Python 3",
   "language": "python",
   "name": "python3"
  },
  "language_info": {
   "codemirror_mode": {
    "name": "ipython",
    "version": 3
   },
   "file_extension": ".py",
   "mimetype": "text/x-python",
   "name": "python",
   "nbconvert_exporter": "python",
   "pygments_lexer": "ipython3",
   "version": "3.7.6"
  }
 },
 "nbformat": 4,
 "nbformat_minor": 4
}
